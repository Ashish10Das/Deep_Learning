{
  "nbformat": 4,
  "nbformat_minor": 0,
  "metadata": {
    "colab": {
      "provenance": [],
      "authorship_tag": "ABX9TyOgW8lFAhcaZ+ENh62E/yZt",
      "include_colab_link": true
    },
    "kernelspec": {
      "name": "python3",
      "display_name": "Python 3"
    },
    "language_info": {
      "name": "python"
    }
  },
  "cells": [
    {
      "cell_type": "markdown",
      "metadata": {
        "id": "view-in-github",
        "colab_type": "text"
      },
      "source": [
        "<a href=\"https://colab.research.google.com/github/Ashish10Das/Deep_Learning/blob/main/LSTM_Next_Word_Prediction.ipynb\" target=\"_parent\"><img src=\"https://colab.research.google.com/assets/colab-badge.svg\" alt=\"Open In Colab\"/></a>"
      ]
    },
    {
      "cell_type": "markdown",
      "source": [
        "**This project is related to text generator. Here we will be developing supervised model , where we will define input text and corresponding output text.\n",
        "On the defined dataset (input and output) , we will train LSTM model.**"
      ],
      "metadata": {
        "id": "T4K0ncM0oa8g"
      }
    },
    {
      "cell_type": "code",
      "execution_count": 118,
      "metadata": {
        "id": "0JucRKFziKEB"
      },
      "outputs": [],
      "source": [
        "Data_System =\"\"\"Data Integration\n",
        "A recurring theme in this book has been that for any given problem, there are several\n",
        "solutions, all of which have different pros, cons, and trade-offs. For example, when\n",
        "discussing storage engines in Chapter 3, we saw log-structured storage, B-trees, and\n",
        "column-oriented storage. When discussing replication in Chapter 5, we saw singleleader,\n",
        "multi-leader, and leaderless approaches.\n",
        "If you have a problem such as “I want to store some data and look it up again later,”\n",
        "there is no one right solution, but many different approaches that are each appropriate\n",
        "in different circumstances. A software implementation typically has to pick one\n",
        "particular approach. It’s hard enough to get one code path robust and performing\n",
        "well—trying to do everything in one piece of software almost guarantees that the\n",
        "implementation will be poor.\n",
        "Thus, the most appropriate choice of software tool also depends on the circumstances.\n",
        "Every piece of software, even a so-called “general-purpose” database, is designed\n",
        "for a particular usage pattern.\n",
        "Faced with this profusion of alternatives, the first challenge is then to figure out the\n",
        "mapping between the software products and the circumstances in which they are a\n",
        "good fit. Vendors are understandably reluctant to tell you about the kinds of workloads\n",
        "for which their software is poorly suited, but hopefully the previous chapters\n",
        "have equipped you with some questions to ask in order to read between the lines and\n",
        "better understand the trade-offs.\n",
        "However, even if you perfectly understand the mapping between tools and circumstances\n",
        "for their use, there is another challenge: in complex applications, data is often\n",
        "used in several different ways. There is unlikely to be one piece of software that is\n",
        "suitable for all the different circumstances in which the data is used, so you inevitably\n",
        "end up having to cobble together several different pieces of software in order to provide\n",
        "your application’s functionality.\n",
        "Combining Specialized Tools by Deriving Data\n",
        "For example, it is common to need to integrate an OLTP database with a full-text\n",
        "search index in order to handle queries for arbitrary keywords. Although some databases\n",
        "(such as PostgreSQL) include a full-text indexing feature, which can be sufficient\n",
        "for simple applications [1], more sophisticated search facilities require specialist\n",
        "information retrieval tools. Conversely, search indexes are generally not very suitable\n",
        "as a durable system of record, and so many applications need to combine two different\n",
        "tools in order to satisfy all of the requirements.\n",
        "We touched on the issue of integrating data systems in “Keeping Systems in Sync” on\n",
        "page 452. As the number of different representations of the data increases, the inte‐\n",
        "490 | Chapter 12: The Future of Data Systems\n",
        "gration problem becomes harder. Besides the database and the search index, perhaps\n",
        "you need to keep copies of the data in analytics systems (data warehouses, or batch\n",
        "and stream processing systems); maintain caches or denormalized versions of objects\n",
        "that were derived from the original data; pass the data through machine learning,\n",
        "classification, ranking, or recommendation systems; or send notifications based on\n",
        "changes to the data.\n",
        "Surprisingly often I see software engineers make statements like, “In my experience,\n",
        "99% of people only need X” or “…don’t need X” (for various values of X). I think that\n",
        "such statements say more about the experience of the speaker than about the actual\n",
        "usefulness of a technology. The range of different things you might want to do with\n",
        "data is dizzyingly wide. What one person considers to be an obscure and pointless\n",
        "feature may well be a central requirement for someone else. The need for data integration\n",
        "often only becomes apparent if you zoom out and consider the dataflows\n",
        "across an entire organization.\n",
        "Reasoning about dataflows\n",
        "When copies of the same data need to be maintained in several storage systems in\n",
        "order to satisfy different access patterns, you need to be very clear about the inputs\n",
        "and outputs: where is data written first, and which representations are derived from\n",
        "which sources? How do you get data into all the right places, in the right formats?\n",
        "For example, you might arrange for data to first be written to a system of record database,\n",
        "capturing the changes made to that database (see “Change Data Capture” on\n",
        "page 454) and then applying the changes to the search index in the same order. If\n",
        "change data capture (CDC) is the only way of updating the index, you can be confident\n",
        "that the index is entirely derived from the system of record, and therefore consistent\n",
        "with it (barring bugs in the software). Writing to the database is the only way\n",
        "of supplying new input into this system.\n",
        "Allowing the application to directly write to both the search index and the database\n",
        "introduces the problem shown in Figure 11-4, in which two clients concurrently send\n",
        "conflicting writes, and the two storage systems process them in a different order. In\n",
        "this case, neither the database nor the search index is “in charge” of determining the\n",
        "order of writes, and so they may make contradictory decisions and become permanently\n",
        "inconsistent with each other.\n",
        "If it is possible for you to funnel all user input through a single system that decides on\n",
        "an ordering for all writes, it becomes much easier to derive other representations of\n",
        "the data by processing the writes in the same order. This is an application of the state\n",
        "machine replication approach that we saw in “Total Order Broadcast” on page 348.\n",
        "Whether you use change data capture or an event sourcing log is less important than\n",
        "simply the principle of deciding on a total order.\n",
        "Data Integration | 491\n",
        "Updating a derived data system based on an event log can often be made deterministic\n",
        "and idempotent (see “Idempotence” on page 478), making it quite easy to recover\n",
        "from faults.\n",
        "Derived data versus distributed transactions\n",
        "The classic approach for keeping different data systems consistent with each other\n",
        "involves distributed transactions, as discussed in “Atomic Commit and Two-Phase\n",
        "Commit (2PC)” on page 354. How does the approach of using derived data systems\n",
        "fare in comparison to distributed transactions?\n",
        "At an abstract level, they achieve a similar goal by different means. Distributed transactions\n",
        "decide on an ordering of writes by using locks for mutual exclusion (see\n",
        "“Two-Phase Locking (2PL)” on page 257), while CDC and event sourcing use a log\n",
        "for ordering. Distributed transactions use atomic commit to ensure that changes take\n",
        "effect exactly once, while log-based systems are often based on deterministic retry\n",
        "and idempotence.\n",
        "The biggest difference is that transaction systems usually provide linearizability (see\n",
        "“Linearizability” on page 324), which implies useful guarantees such as reading your\n",
        "own writes (see “Reading Your Own Writes” on page 162). On the other hand,\n",
        "derived data systems are often updated asynchronously, and so they do not by default\n",
        "offer the same timing guarantees.\n",
        "Within limited environments that are willing to pay the cost of distributed transactions,\n",
        "they have been used successfully. However, I think that XA has poor fault tolerance\n",
        "and performance characteristics (see “Distributed Transactions in Practice” on\n",
        "page 360), which severely limit its usefulness. I believe that it might be possible to\n",
        "create a better protocol for distributed transactions, but getting such a protocol\n",
        "widely adopted and integrated with existing tools would be challenging, and unlikely\n",
        "to happen soon.\n",
        "In the absence of widespread support for a good distributed transaction protocol, I\n",
        "believe that log-based derived data is the most promising approach for integrating\n",
        "different data systems. However, guarantees such as reading your own writes are useful,\n",
        "and I don’t think that it is productive to tell everyone “eventual consistency is\n",
        "inevitable—suck it up and learn to deal with it” (at least not without good guidance\n",
        "on how to deal with it).\n",
        "In “Aiming for Correctness” on page 515 we will discuss some approaches for implementing\n",
        "stronger guarantees on top of asynchronously derived systems, and work\n",
        "toward a middle ground between distributed transactions and asynchronous logbased systems.\n",
        "Asynchronous derived data\"\"\""
      ]
    },
    {
      "cell_type": "code",
      "source": [
        "import tensorflow  as tf\n",
        "from tensorflow.keras.preprocessing.text import Tokenizer\n",
        "from tensorflow.keras.preprocessing import sequence\n",
        "from tensorflow.keras.preprocessing.sequence import pad_sequences\n",
        "from tensorflow.keras.models import Sequential\n",
        "from tensorflow.keras.layers import Dense, Embedding, LSTM"
      ],
      "metadata": {
        "id": "8GrfXfGailI9"
      },
      "execution_count": 119,
      "outputs": []
    },
    {
      "cell_type": "code",
      "source": [
        "tokenizer = Tokenizer()\n",
        "tokenizer.fit_on_texts([Data_System])"
      ],
      "metadata": {
        "id": "rXtUK4Cwj0K9"
      },
      "execution_count": 120,
      "outputs": []
    },
    {
      "cell_type": "code",
      "source": [
        "tokenizer.word_index"
      ],
      "metadata": {
        "colab": {
          "base_uri": "https://localhost:8080/"
        },
        "id": "p8k3UeButEnF",
        "outputId": "23e6900c-3657-4d46-d434-b6b412c1a466"
      },
      "execution_count": 121,
      "outputs": [
        {
          "output_type": "execute_result",
          "data": {
            "text/plain": [
              "{'the': 1,\n",
              " 'to': 2,\n",
              " 'of': 3,\n",
              " 'and': 4,\n",
              " 'data': 5,\n",
              " 'in': 6,\n",
              " 'for': 7,\n",
              " 'is': 8,\n",
              " 'a': 9,\n",
              " 'on': 10,\n",
              " 'that': 11,\n",
              " 'systems': 12,\n",
              " 'different': 13,\n",
              " 'you': 14,\n",
              " 'be': 15,\n",
              " 'order': 16,\n",
              " 'are': 17,\n",
              " 'which': 18,\n",
              " 'it': 19,\n",
              " 'software': 20,\n",
              " 'with': 21,\n",
              " 'page': 22,\n",
              " 'derived': 23,\n",
              " 'an': 24,\n",
              " 'distributed': 25,\n",
              " 'transactions': 26,\n",
              " 'database': 27,\n",
              " 'need': 28,\n",
              " 'as': 29,\n",
              " 'search': 30,\n",
              " 'index': 31,\n",
              " 'see': 32,\n",
              " 'writes': 33,\n",
              " 'all': 34,\n",
              " 'log': 35,\n",
              " 'such': 36,\n",
              " 'one': 37,\n",
              " 'often': 38,\n",
              " 'system': 39,\n",
              " 'or': 40,\n",
              " 'i': 41,\n",
              " 'this': 42,\n",
              " 'storage': 43,\n",
              " 'we': 44,\n",
              " 'if': 45,\n",
              " 'circumstances': 46,\n",
              " 'approach': 47,\n",
              " 'guarantees': 48,\n",
              " 'so': 49,\n",
              " 'they': 50,\n",
              " 'about': 51,\n",
              " 'tools': 52,\n",
              " 'by': 53,\n",
              " 'based': 54,\n",
              " 'problem': 55,\n",
              " 'there': 56,\n",
              " 'several': 57,\n",
              " 'have': 58,\n",
              " 'some': 59,\n",
              " 'do': 60,\n",
              " 'between': 61,\n",
              " 'use': 62,\n",
              " 'your': 63,\n",
              " 'two': 64,\n",
              " 'from': 65,\n",
              " 'changes': 66,\n",
              " 'only': 67,\n",
              " 'same': 68,\n",
              " 'other': 69,\n",
              " 'integration': 70,\n",
              " 'has': 71,\n",
              " 'example': 72,\n",
              " 'when': 73,\n",
              " 'chapter': 74,\n",
              " 'saw': 75,\n",
              " 'approaches': 76,\n",
              " 'up': 77,\n",
              " '”': 78,\n",
              " 'right': 79,\n",
              " 'but': 80,\n",
              " 'each': 81,\n",
              " 'piece': 82,\n",
              " 'first': 83,\n",
              " 'good': 84,\n",
              " 'however': 85,\n",
              " 'applications': 86,\n",
              " 'used': 87,\n",
              " 'can': 88,\n",
              " 'not': 89,\n",
              " 'record': 90,\n",
              " 'representations': 91,\n",
              " 'becomes': 92,\n",
              " 'think': 93,\n",
              " 'might': 94,\n",
              " 'how': 95,\n",
              " 'ordering': 96,\n",
              " 'event': 97,\n",
              " 'commit': 98,\n",
              " 'own': 99,\n",
              " 'protocol': 100,\n",
              " 'been': 101,\n",
              " 'trade': 102,\n",
              " 'offs': 103,\n",
              " 'discussing': 104,\n",
              " 'replication': 105,\n",
              " 'want': 106,\n",
              " 'many': 107,\n",
              " 'appropriate': 108,\n",
              " 'implementation': 109,\n",
              " 'particular': 110,\n",
              " 'get': 111,\n",
              " 'will': 112,\n",
              " 'poor': 113,\n",
              " 'most': 114,\n",
              " 'even': 115,\n",
              " 'challenge': 116,\n",
              " 'then': 117,\n",
              " 'figure': 118,\n",
              " 'out': 119,\n",
              " 'mapping': 120,\n",
              " 'tell': 121,\n",
              " 'their': 122,\n",
              " 'better': 123,\n",
              " 'understand': 124,\n",
              " 'unlikely': 125,\n",
              " 'suitable': 126,\n",
              " 'provide': 127,\n",
              " 'full': 128,\n",
              " 'text': 129,\n",
              " 'feature': 130,\n",
              " 'more': 131,\n",
              " 'very': 132,\n",
              " 'satisfy': 133,\n",
              " 'integrating': 134,\n",
              " 'copies': 135,\n",
              " 'processing': 136,\n",
              " 'through': 137,\n",
              " 'machine': 138,\n",
              " 'send': 139,\n",
              " 'make': 140,\n",
              " 'statements': 141,\n",
              " '“in': 142,\n",
              " 'experience': 143,\n",
              " 'x”': 144,\n",
              " 'than': 145,\n",
              " 'usefulness': 146,\n",
              " 'may': 147,\n",
              " 'dataflows': 148,\n",
              " 'written': 149,\n",
              " 'into': 150,\n",
              " 'made': 151,\n",
              " 'change': 152,\n",
              " 'capture': 153,\n",
              " 'cdc': 154,\n",
              " 'way': 155,\n",
              " 'updating': 156,\n",
              " 'consistent': 157,\n",
              " 'input': 158,\n",
              " 'application': 159,\n",
              " 'possible': 160,\n",
              " 'sourcing': 161,\n",
              " 'deterministic': 162,\n",
              " 'phase': 163,\n",
              " 'using': 164,\n",
              " 'at': 165,\n",
              " 'while': 166,\n",
              " 'transaction': 167,\n",
              " 'useful': 168,\n",
              " 'reading': 169,\n",
              " 'asynchronously': 170,\n",
              " 'believe': 171,\n",
              " 'deal': 172,\n",
              " 'asynchronous': 173,\n",
              " 'recurring': 174,\n",
              " 'theme': 175,\n",
              " 'book': 176,\n",
              " 'any': 177,\n",
              " 'given': 178,\n",
              " 'solutions': 179,\n",
              " 'pros': 180,\n",
              " 'cons': 181,\n",
              " 'engines': 182,\n",
              " '3': 183,\n",
              " 'structured': 184,\n",
              " 'b': 185,\n",
              " 'trees': 186,\n",
              " 'column': 187,\n",
              " 'oriented': 188,\n",
              " '5': 189,\n",
              " 'singleleader': 190,\n",
              " 'multi': 191,\n",
              " 'leader': 192,\n",
              " 'leaderless': 193,\n",
              " '“i': 194,\n",
              " 'store': 195,\n",
              " 'look': 196,\n",
              " 'again': 197,\n",
              " 'later': 198,\n",
              " 'no': 199,\n",
              " 'solution': 200,\n",
              " 'typically': 201,\n",
              " 'pick': 202,\n",
              " 'it’s': 203,\n",
              " 'hard': 204,\n",
              " 'enough': 205,\n",
              " 'code': 206,\n",
              " 'path': 207,\n",
              " 'robust': 208,\n",
              " 'performing': 209,\n",
              " 'well—trying': 210,\n",
              " 'everything': 211,\n",
              " 'almost': 212,\n",
              " 'thus': 213,\n",
              " 'choice': 214,\n",
              " 'tool': 215,\n",
              " 'also': 216,\n",
              " 'depends': 217,\n",
              " 'every': 218,\n",
              " 'called': 219,\n",
              " '“general': 220,\n",
              " 'purpose”': 221,\n",
              " 'designed': 222,\n",
              " 'usage': 223,\n",
              " 'pattern': 224,\n",
              " 'faced': 225,\n",
              " 'profusion': 226,\n",
              " 'alternatives': 227,\n",
              " 'products': 228,\n",
              " 'fit': 229,\n",
              " 'vendors': 230,\n",
              " 'understandably': 231,\n",
              " 'reluctant': 232,\n",
              " 'kinds': 233,\n",
              " 'workloads': 234,\n",
              " 'poorly': 235,\n",
              " 'suited': 236,\n",
              " 'hopefully': 237,\n",
              " 'previous': 238,\n",
              " 'chapters': 239,\n",
              " 'equipped': 240,\n",
              " 'questions': 241,\n",
              " 'ask': 242,\n",
              " 'read': 243,\n",
              " 'lines': 244,\n",
              " 'perfectly': 245,\n",
              " 'another': 246,\n",
              " 'complex': 247,\n",
              " 'ways': 248,\n",
              " 'inevitably': 249,\n",
              " 'end': 250,\n",
              " 'having': 251,\n",
              " 'cobble': 252,\n",
              " 'together': 253,\n",
              " 'pieces': 254,\n",
              " 'application’s': 255,\n",
              " 'functionality': 256,\n",
              " 'combining': 257,\n",
              " 'specialized': 258,\n",
              " 'deriving': 259,\n",
              " 'common': 260,\n",
              " 'integrate': 261,\n",
              " 'oltp': 262,\n",
              " 'handle': 263,\n",
              " 'queries': 264,\n",
              " 'arbitrary': 265,\n",
              " 'keywords': 266,\n",
              " 'although': 267,\n",
              " 'databases': 268,\n",
              " 'postgresql': 269,\n",
              " 'include': 270,\n",
              " 'indexing': 271,\n",
              " 'sufficient': 272,\n",
              " 'simple': 273,\n",
              " '1': 274,\n",
              " 'sophisticated': 275,\n",
              " 'facilities': 276,\n",
              " 'require': 277,\n",
              " 'specialist': 278,\n",
              " 'information': 279,\n",
              " 'retrieval': 280,\n",
              " 'conversely': 281,\n",
              " 'indexes': 282,\n",
              " 'generally': 283,\n",
              " 'durable': 284,\n",
              " 'combine': 285,\n",
              " 'requirements': 286,\n",
              " 'touched': 287,\n",
              " 'issue': 288,\n",
              " '“keeping': 289,\n",
              " 'sync”': 290,\n",
              " '452': 291,\n",
              " 'number': 292,\n",
              " 'increases': 293,\n",
              " 'inte‐': 294,\n",
              " '490': 295,\n",
              " '12': 296,\n",
              " 'future': 297,\n",
              " 'gration': 298,\n",
              " 'harder': 299,\n",
              " 'besides': 300,\n",
              " 'perhaps': 301,\n",
              " 'keep': 302,\n",
              " 'analytics': 303,\n",
              " 'warehouses': 304,\n",
              " 'batch': 305,\n",
              " 'stream': 306,\n",
              " 'maintain': 307,\n",
              " 'caches': 308,\n",
              " 'denormalized': 309,\n",
              " 'versions': 310,\n",
              " 'objects': 311,\n",
              " 'were': 312,\n",
              " 'original': 313,\n",
              " 'pass': 314,\n",
              " 'learning': 315,\n",
              " 'classification': 316,\n",
              " 'ranking': 317,\n",
              " 'recommendation': 318,\n",
              " 'notifications': 319,\n",
              " 'surprisingly': 320,\n",
              " 'engineers': 321,\n",
              " 'like': 322,\n",
              " 'my': 323,\n",
              " '99': 324,\n",
              " 'people': 325,\n",
              " '“…don’t': 326,\n",
              " 'various': 327,\n",
              " 'values': 328,\n",
              " 'x': 329,\n",
              " 'say': 330,\n",
              " 'speaker': 331,\n",
              " 'actual': 332,\n",
              " 'technology': 333,\n",
              " 'range': 334,\n",
              " 'things': 335,\n",
              " 'dizzyingly': 336,\n",
              " 'wide': 337,\n",
              " 'what': 338,\n",
              " 'person': 339,\n",
              " 'considers': 340,\n",
              " 'obscure': 341,\n",
              " 'pointless': 342,\n",
              " 'well': 343,\n",
              " 'central': 344,\n",
              " 'requirement': 345,\n",
              " 'someone': 346,\n",
              " 'else': 347,\n",
              " 'apparent': 348,\n",
              " 'zoom': 349,\n",
              " 'consider': 350,\n",
              " 'across': 351,\n",
              " 'entire': 352,\n",
              " 'organization': 353,\n",
              " 'reasoning': 354,\n",
              " 'maintained': 355,\n",
              " 'access': 356,\n",
              " 'patterns': 357,\n",
              " 'clear': 358,\n",
              " 'inputs': 359,\n",
              " 'outputs': 360,\n",
              " 'where': 361,\n",
              " 'sources': 362,\n",
              " 'places': 363,\n",
              " 'formats': 364,\n",
              " 'arrange': 365,\n",
              " 'capturing': 366,\n",
              " '“change': 367,\n",
              " 'capture”': 368,\n",
              " '454': 369,\n",
              " 'applying': 370,\n",
              " 'confident': 371,\n",
              " 'entirely': 372,\n",
              " 'therefore': 373,\n",
              " 'barring': 374,\n",
              " 'bugs': 375,\n",
              " 'writing': 376,\n",
              " 'supplying': 377,\n",
              " 'new': 378,\n",
              " 'allowing': 379,\n",
              " 'directly': 380,\n",
              " 'write': 381,\n",
              " 'both': 382,\n",
              " 'introduces': 383,\n",
              " 'shown': 384,\n",
              " '11': 385,\n",
              " '4': 386,\n",
              " 'clients': 387,\n",
              " 'concurrently': 388,\n",
              " 'conflicting': 389,\n",
              " 'process': 390,\n",
              " 'them': 391,\n",
              " 'case': 392,\n",
              " 'neither': 393,\n",
              " 'nor': 394,\n",
              " 'charge”': 395,\n",
              " 'determining': 396,\n",
              " 'contradictory': 397,\n",
              " 'decisions': 398,\n",
              " 'become': 399,\n",
              " 'permanently': 400,\n",
              " 'inconsistent': 401,\n",
              " 'funnel': 402,\n",
              " 'user': 403,\n",
              " 'single': 404,\n",
              " 'decides': 405,\n",
              " 'much': 406,\n",
              " 'easier': 407,\n",
              " 'derive': 408,\n",
              " 'state': 409,\n",
              " '“total': 410,\n",
              " 'broadcast”': 411,\n",
              " '348': 412,\n",
              " 'whether': 413,\n",
              " 'less': 414,\n",
              " 'important': 415,\n",
              " 'simply': 416,\n",
              " 'principle': 417,\n",
              " 'deciding': 418,\n",
              " 'total': 419,\n",
              " '491': 420,\n",
              " 'idempotent': 421,\n",
              " '“idempotence”': 422,\n",
              " '478': 423,\n",
              " 'making': 424,\n",
              " 'quite': 425,\n",
              " 'easy': 426,\n",
              " 'recover': 427,\n",
              " 'faults': 428,\n",
              " 'versus': 429,\n",
              " 'classic': 430,\n",
              " 'keeping': 431,\n",
              " 'involves': 432,\n",
              " 'discussed': 433,\n",
              " '“atomic': 434,\n",
              " '2pc': 435,\n",
              " '354': 436,\n",
              " 'does': 437,\n",
              " 'fare': 438,\n",
              " 'comparison': 439,\n",
              " 'abstract': 440,\n",
              " 'level': 441,\n",
              " 'achieve': 442,\n",
              " 'similar': 443,\n",
              " 'goal': 444,\n",
              " 'means': 445,\n",
              " 'decide': 446,\n",
              " 'locks': 447,\n",
              " 'mutual': 448,\n",
              " 'exclusion': 449,\n",
              " '“two': 450,\n",
              " 'locking': 451,\n",
              " '2pl': 452,\n",
              " '257': 453,\n",
              " 'atomic': 454,\n",
              " 'ensure': 455,\n",
              " 'take': 456,\n",
              " 'effect': 457,\n",
              " 'exactly': 458,\n",
              " 'once': 459,\n",
              " 'retry': 460,\n",
              " 'idempotence': 461,\n",
              " 'biggest': 462,\n",
              " 'difference': 463,\n",
              " 'usually': 464,\n",
              " 'linearizability': 465,\n",
              " '“linearizability”': 466,\n",
              " '324': 467,\n",
              " 'implies': 468,\n",
              " '“reading': 469,\n",
              " 'writes”': 470,\n",
              " '162': 471,\n",
              " 'hand': 472,\n",
              " 'updated': 473,\n",
              " 'default': 474,\n",
              " 'offer': 475,\n",
              " 'timing': 476,\n",
              " 'within': 477,\n",
              " 'limited': 478,\n",
              " 'environments': 479,\n",
              " 'willing': 480,\n",
              " 'pay': 481,\n",
              " 'cost': 482,\n",
              " 'successfully': 483,\n",
              " 'xa': 484,\n",
              " 'fault': 485,\n",
              " 'tolerance': 486,\n",
              " 'performance': 487,\n",
              " 'characteristics': 488,\n",
              " '“distributed': 489,\n",
              " 'practice”': 490,\n",
              " '360': 491,\n",
              " 'severely': 492,\n",
              " 'limit': 493,\n",
              " 'its': 494,\n",
              " 'create': 495,\n",
              " 'getting': 496,\n",
              " 'widely': 497,\n",
              " 'adopted': 498,\n",
              " 'integrated': 499,\n",
              " 'existing': 500,\n",
              " 'would': 501,\n",
              " 'challenging': 502,\n",
              " 'happen': 503,\n",
              " 'soon': 504,\n",
              " 'absence': 505,\n",
              " 'widespread': 506,\n",
              " 'support': 507,\n",
              " 'promising': 508,\n",
              " 'don’t': 509,\n",
              " 'productive': 510,\n",
              " 'everyone': 511,\n",
              " '“eventual': 512,\n",
              " 'consistency': 513,\n",
              " 'inevitable—suck': 514,\n",
              " 'learn': 515,\n",
              " 'it”': 516,\n",
              " 'least': 517,\n",
              " 'without': 518,\n",
              " 'guidance': 519,\n",
              " '“aiming': 520,\n",
              " 'correctness”': 521,\n",
              " '515': 522,\n",
              " 'discuss': 523,\n",
              " 'implementing': 524,\n",
              " 'stronger': 525,\n",
              " 'top': 526,\n",
              " 'work': 527,\n",
              " 'toward': 528,\n",
              " 'middle': 529,\n",
              " 'ground': 530,\n",
              " 'logbased': 531}"
            ]
          },
          "metadata": {},
          "execution_count": 121
        }
      ]
    },
    {
      "cell_type": "code",
      "source": [
        "len(tokenizer.index_word)"
      ],
      "metadata": {
        "colab": {
          "base_uri": "https://localhost:8080/"
        },
        "id": "B80ME9PS6DKN",
        "outputId": "03c19073-9cdb-44a8-cfe4-709a419a8c29"
      },
      "execution_count": 122,
      "outputs": [
        {
          "output_type": "execute_result",
          "data": {
            "text/plain": [
              "531"
            ]
          },
          "metadata": {},
          "execution_count": 122
        }
      ]
    },
    {
      "cell_type": "code",
      "source": [
        "input_sequences=[]\n",
        "\n",
        "for sentence in Data_System.split('\\n'):\n",
        "  token_list= tokenizer.texts_to_sequences([sentence])[0] # here we are storing the entire text in terms of tokenized value\n",
        "  print(token_list)\n",
        "\n",
        "  for i in range(1, len(token_list)):\n",
        "    n_gram_sequence = token_list[:i+1]\n",
        "    input_sequences.append(n_gram_sequence)"
      ],
      "metadata": {
        "colab": {
          "base_uri": "https://localhost:8080/"
        },
        "id": "StHP0CVytsqZ",
        "outputId": "0ec2e6cf-afba-458d-fe42-32557a6be72f"
      },
      "execution_count": 123,
      "outputs": [
        {
          "output_type": "stream",
          "name": "stdout",
          "text": [
            "[5, 70]\n",
            "[9, 174, 175, 6, 42, 176, 71, 101, 11, 7, 177, 178, 55, 56, 17, 57]\n",
            "[179, 34, 3, 18, 58, 13, 180, 181, 4, 102, 103, 7, 72, 73]\n",
            "[104, 43, 182, 6, 74, 183, 44, 75, 35, 184, 43, 185, 186, 4]\n",
            "[187, 188, 43, 73, 104, 105, 6, 74, 189, 44, 75, 190]\n",
            "[191, 192, 4, 193, 76]\n",
            "[45, 14, 58, 9, 55, 36, 29, 194, 106, 2, 195, 59, 5, 4, 196, 19, 77, 197, 198, 78]\n",
            "[56, 8, 199, 37, 79, 200, 80, 107, 13, 76, 11, 17, 81, 108]\n",
            "[6, 13, 46, 9, 20, 109, 201, 71, 2, 202, 37]\n",
            "[110, 47, 203, 204, 205, 2, 111, 37, 206, 207, 208, 4, 209]\n",
            "[210, 2, 60, 211, 6, 37, 82, 3, 20, 212, 48, 11, 1]\n",
            "[109, 112, 15, 113]\n",
            "[213, 1, 114, 108, 214, 3, 20, 215, 216, 217, 10, 1, 46]\n",
            "[218, 82, 3, 20, 115, 9, 49, 219, 220, 221, 27, 8, 222]\n",
            "[7, 9, 110, 223, 224]\n",
            "[225, 21, 42, 226, 3, 227, 1, 83, 116, 8, 117, 2, 118, 119, 1]\n",
            "[120, 61, 1, 20, 228, 4, 1, 46, 6, 18, 50, 17, 9]\n",
            "[84, 229, 230, 17, 231, 232, 2, 121, 14, 51, 1, 233, 3, 234]\n",
            "[7, 18, 122, 20, 8, 235, 236, 80, 237, 1, 238, 239]\n",
            "[58, 240, 14, 21, 59, 241, 2, 242, 6, 16, 2, 243, 61, 1, 244, 4]\n",
            "[123, 124, 1, 102, 103]\n",
            "[85, 115, 45, 14, 245, 124, 1, 120, 61, 52, 4, 46]\n",
            "[7, 122, 62, 56, 8, 246, 116, 6, 247, 86, 5, 8, 38]\n",
            "[87, 6, 57, 13, 248, 56, 8, 125, 2, 15, 37, 82, 3, 20, 11, 8]\n",
            "[126, 7, 34, 1, 13, 46, 6, 18, 1, 5, 8, 87, 49, 14, 249]\n",
            "[250, 77, 251, 2, 252, 253, 57, 13, 254, 3, 20, 6, 16, 2, 127]\n",
            "[63, 255, 256]\n",
            "[257, 258, 52, 53, 259, 5]\n",
            "[7, 72, 19, 8, 260, 2, 28, 2, 261, 24, 262, 27, 21, 9, 128, 129]\n",
            "[30, 31, 6, 16, 2, 263, 264, 7, 265, 266, 267, 59, 268]\n",
            "[36, 29, 269, 270, 9, 128, 129, 271, 130, 18, 88, 15, 272]\n",
            "[7, 273, 86, 274, 131, 275, 30, 276, 277, 278]\n",
            "[279, 280, 52, 281, 30, 282, 17, 283, 89, 132, 126]\n",
            "[29, 9, 284, 39, 3, 90, 4, 49, 107, 86, 28, 2, 285, 64, 13]\n",
            "[52, 6, 16, 2, 133, 34, 3, 1, 286]\n",
            "[44, 287, 10, 1, 288, 3, 134, 5, 12, 6, 289, 12, 6, 290, 10]\n",
            "[22, 291, 29, 1, 292, 3, 13, 91, 3, 1, 5, 293, 1, 294]\n",
            "[295, 74, 296, 1, 297, 3, 5, 12]\n",
            "[298, 55, 92, 299, 300, 1, 27, 4, 1, 30, 31, 301]\n",
            "[14, 28, 2, 302, 135, 3, 1, 5, 6, 303, 12, 5, 304, 40, 305]\n",
            "[4, 306, 136, 12, 307, 308, 40, 309, 310, 3, 311]\n",
            "[11, 312, 23, 65, 1, 313, 5, 314, 1, 5, 137, 138, 315]\n",
            "[316, 317, 40, 318, 12, 40, 139, 319, 54, 10]\n",
            "[66, 2, 1, 5]\n",
            "[320, 38, 41, 32, 20, 321, 140, 141, 322, 142, 323, 143]\n",
            "[324, 3, 325, 67, 28, 144, 40, 326, 28, 144, 7, 327, 328, 3, 329, 41, 93, 11]\n",
            "[36, 141, 330, 131, 51, 1, 143, 3, 1, 331, 145, 51, 1, 332]\n",
            "[146, 3, 9, 333, 1, 334, 3, 13, 335, 14, 94, 106, 2, 60, 21]\n",
            "[5, 8, 336, 337, 338, 37, 339, 340, 2, 15, 24, 341, 4, 342]\n",
            "[130, 147, 343, 15, 9, 344, 345, 7, 346, 347, 1, 28, 7, 5, 70]\n",
            "[38, 67, 92, 348, 45, 14, 349, 119, 4, 350, 1, 148]\n",
            "[351, 24, 352, 353]\n",
            "[354, 51, 148]\n",
            "[73, 135, 3, 1, 68, 5, 28, 2, 15, 355, 6, 57, 43, 12, 6]\n",
            "[16, 2, 133, 13, 356, 357, 14, 28, 2, 15, 132, 358, 51, 1, 359]\n",
            "[4, 360, 361, 8, 5, 149, 83, 4, 18, 91, 17, 23, 65]\n",
            "[18, 362, 95, 60, 14, 111, 5, 150, 34, 1, 79, 363, 6, 1, 79, 364]\n",
            "[7, 72, 14, 94, 365, 7, 5, 2, 83, 15, 149, 2, 9, 39, 3, 90, 27]\n",
            "[366, 1, 66, 151, 2, 11, 27, 32, 367, 5, 368, 10]\n",
            "[22, 369, 4, 117, 370, 1, 66, 2, 1, 30, 31, 6, 1, 68, 16, 45]\n",
            "[152, 5, 153, 154, 8, 1, 67, 155, 3, 156, 1, 31, 14, 88, 15, 371]\n",
            "[11, 1, 31, 8, 372, 23, 65, 1, 39, 3, 90, 4, 373, 157]\n",
            "[21, 19, 374, 375, 6, 1, 20, 376, 2, 1, 27, 8, 1, 67, 155]\n",
            "[3, 377, 378, 158, 150, 42, 39]\n",
            "[379, 1, 159, 2, 380, 381, 2, 382, 1, 30, 31, 4, 1, 27]\n",
            "[383, 1, 55, 384, 6, 118, 385, 386, 6, 18, 64, 387, 388, 139]\n",
            "[389, 33, 4, 1, 64, 43, 12, 390, 391, 6, 9, 13, 16, 6]\n",
            "[42, 392, 393, 1, 27, 394, 1, 30, 31, 8, 142, 395, 3, 396, 1]\n",
            "[16, 3, 33, 4, 49, 50, 147, 140, 397, 398, 4, 399, 400]\n",
            "[401, 21, 81, 69]\n",
            "[45, 19, 8, 160, 7, 14, 2, 402, 34, 403, 158, 137, 9, 404, 39, 11, 405, 10]\n",
            "[24, 96, 7, 34, 33, 19, 92, 406, 407, 2, 408, 69, 91, 3]\n",
            "[1, 5, 53, 136, 1, 33, 6, 1, 68, 16, 42, 8, 24, 159, 3, 1, 409]\n",
            "[138, 105, 47, 11, 44, 75, 6, 410, 16, 411, 10, 22, 412]\n",
            "[413, 14, 62, 152, 5, 153, 40, 24, 97, 161, 35, 8, 414, 415, 145]\n",
            "[416, 1, 417, 3, 418, 10, 9, 419, 16]\n",
            "[5, 70, 420]\n",
            "[156, 9, 23, 5, 39, 54, 10, 24, 97, 35, 88, 38, 15, 151, 162]\n",
            "[4, 421, 32, 422, 10, 22, 423, 424, 19, 425, 426, 2, 427]\n",
            "[65, 428]\n",
            "[23, 5, 429, 25, 26]\n",
            "[1, 430, 47, 7, 431, 13, 5, 12, 157, 21, 81, 69]\n",
            "[432, 25, 26, 29, 433, 6, 434, 98, 4, 64, 163]\n",
            "[98, 435, 78, 10, 22, 436, 95, 437, 1, 47, 3, 164, 23, 5, 12]\n",
            "[438, 6, 439, 2, 25, 26]\n",
            "[165, 24, 440, 441, 50, 442, 9, 443, 444, 53, 13, 445, 25, 26]\n",
            "[446, 10, 24, 96, 3, 33, 53, 164, 447, 7, 448, 449, 32]\n",
            "[450, 163, 451, 452, 78, 10, 22, 453, 166, 154, 4, 97, 161, 62, 9, 35]\n",
            "[7, 96, 25, 26, 62, 454, 98, 2, 455, 11, 66, 456]\n",
            "[457, 458, 459, 166, 35, 54, 12, 17, 38, 54, 10, 162, 460]\n",
            "[4, 461]\n",
            "[1, 462, 463, 8, 11, 167, 12, 464, 127, 465, 32]\n",
            "[466, 10, 22, 467, 18, 468, 168, 48, 36, 29, 169, 63]\n",
            "[99, 33, 32, 469, 63, 99, 470, 10, 22, 471, 10, 1, 69, 472]\n",
            "[23, 5, 12, 17, 38, 473, 170, 4, 49, 50, 60, 89, 53, 474]\n",
            "[475, 1, 68, 476, 48]\n",
            "[477, 478, 479, 11, 17, 480, 2, 481, 1, 482, 3, 25, 26]\n",
            "[50, 58, 101, 87, 483, 85, 41, 93, 11, 484, 71, 113, 485, 486]\n",
            "[4, 487, 488, 32, 489, 26, 6, 490, 10]\n",
            "[22, 491, 18, 492, 493, 494, 146, 41, 171, 11, 19, 94, 15, 160, 2]\n",
            "[495, 9, 123, 100, 7, 25, 26, 80, 496, 36, 9, 100]\n",
            "[497, 498, 4, 499, 21, 500, 52, 501, 15, 502, 4, 125]\n",
            "[2, 503, 504]\n",
            "[6, 1, 505, 3, 506, 507, 7, 9, 84, 25, 167, 100, 41]\n",
            "[171, 11, 35, 54, 23, 5, 8, 1, 114, 508, 47, 7, 134]\n",
            "[13, 5, 12, 85, 48, 36, 29, 169, 63, 99, 33, 17, 168]\n",
            "[4, 41, 509, 93, 11, 19, 8, 510, 2, 121, 511, 512, 513, 8]\n",
            "[514, 19, 77, 4, 515, 2, 172, 21, 516, 165, 517, 89, 518, 84, 519]\n",
            "[10, 95, 2, 172, 21, 19]\n",
            "[6, 520, 7, 521, 10, 22, 522, 44, 112, 523, 59, 76, 7, 524]\n",
            "[525, 48, 10, 526, 3, 170, 23, 12, 4, 527]\n",
            "[528, 9, 529, 530, 61, 25, 26, 4, 173, 531, 12]\n",
            "[173, 23, 5]\n"
          ]
        }
      ]
    },
    {
      "cell_type": "code",
      "source": [
        "max_len = max([len(x) for x in input_sequences])"
      ],
      "metadata": {
        "id": "lZfXklmjz-iI"
      },
      "execution_count": 124,
      "outputs": []
    },
    {
      "cell_type": "code",
      "source": [
        "padded_sequences = pad_sequences(input_sequences, maxlen = max_len , padding= 'pre')"
      ],
      "metadata": {
        "id": "byYC3y_s0pdm"
      },
      "execution_count": 125,
      "outputs": []
    },
    {
      "cell_type": "code",
      "source": [
        "padded_sequences"
      ],
      "metadata": {
        "colab": {
          "base_uri": "https://localhost:8080/"
        },
        "id": "Lv5tkkZN0_xW",
        "outputId": "021f759b-16c6-4434-920e-935a4a371dfc"
      },
      "execution_count": 126,
      "outputs": [
        {
          "output_type": "execute_result",
          "data": {
            "text/plain": [
              "array([[  0,   0,   0, ...,   0,   5,  70],\n",
              "       [  0,   0,   0, ...,   0,   9, 174],\n",
              "       [  0,   0,   0, ...,   9, 174, 175],\n",
              "       ...,\n",
              "       [  0,   0,   0, ..., 173, 531,  12],\n",
              "       [  0,   0,   0, ...,   0, 173,  23],\n",
              "       [  0,   0,   0, ..., 173,  23,   5]], dtype=int32)"
            ]
          },
          "metadata": {},
          "execution_count": 126
        }
      ]
    },
    {
      "cell_type": "code",
      "source": [
        "padded_sequences.shape"
      ],
      "metadata": {
        "colab": {
          "base_uri": "https://localhost:8080/"
        },
        "id": "YrHDbAliFUm2",
        "outputId": "94cceb6b-3c6b-4ecf-b912-e61787f747a7"
      },
      "execution_count": 127,
      "outputs": [
        {
          "output_type": "execute_result",
          "data": {
            "text/plain": [
              "(1221, 20)"
            ]
          },
          "metadata": {},
          "execution_count": 127
        }
      ]
    },
    {
      "cell_type": "code",
      "source": [
        "x= padded_sequences[:,:-1]"
      ],
      "metadata": {
        "id": "kbrbicE_1QKT"
      },
      "execution_count": 128,
      "outputs": []
    },
    {
      "cell_type": "code",
      "source": [
        "x"
      ],
      "metadata": {
        "colab": {
          "base_uri": "https://localhost:8080/"
        },
        "id": "lnRaqvMOFgEC",
        "outputId": "a420661e-0f15-4507-cd23-a1b51f94d81d"
      },
      "execution_count": 129,
      "outputs": [
        {
          "output_type": "execute_result",
          "data": {
            "text/plain": [
              "array([[  0,   0,   0, ...,   0,   0,   5],\n",
              "       [  0,   0,   0, ...,   0,   0,   9],\n",
              "       [  0,   0,   0, ...,   0,   9, 174],\n",
              "       ...,\n",
              "       [  0,   0,   0, ...,   4, 173, 531],\n",
              "       [  0,   0,   0, ...,   0,   0, 173],\n",
              "       [  0,   0,   0, ...,   0, 173,  23]], dtype=int32)"
            ]
          },
          "metadata": {},
          "execution_count": 129
        }
      ]
    },
    {
      "cell_type": "code",
      "source": [
        "y = padded_sequences[:,-1]"
      ],
      "metadata": {
        "id": "8tQFRbGM1dAD"
      },
      "execution_count": 130,
      "outputs": []
    },
    {
      "cell_type": "code",
      "source": [
        "y"
      ],
      "metadata": {
        "colab": {
          "base_uri": "https://localhost:8080/"
        },
        "id": "ufj_GDef-BR5",
        "outputId": "515d32ba-fa6c-45da-ddf8-3859475162db"
      },
      "execution_count": 131,
      "outputs": [
        {
          "output_type": "execute_result",
          "data": {
            "text/plain": [
              "array([ 70, 174, 175, ...,  12,  23,   5], dtype=int32)"
            ]
          },
          "metadata": {},
          "execution_count": 131
        }
      ]
    },
    {
      "cell_type": "code",
      "source": [
        "x.shape"
      ],
      "metadata": {
        "colab": {
          "base_uri": "https://localhost:8080/"
        },
        "id": "XKNBO0VS2NYI",
        "outputId": "13e494f4-3d5b-462d-c4ad-89e0f3c1cb3a"
      },
      "execution_count": 132,
      "outputs": [
        {
          "output_type": "execute_result",
          "data": {
            "text/plain": [
              "(1221, 19)"
            ]
          },
          "metadata": {},
          "execution_count": 132
        }
      ]
    },
    {
      "cell_type": "code",
      "source": [
        "y.shape"
      ],
      "metadata": {
        "colab": {
          "base_uri": "https://localhost:8080/"
        },
        "id": "bA2uSF-G2cPO",
        "outputId": "4ae8ddb5-0a90-4ff7-9182-595e869879c1"
      },
      "execution_count": 133,
      "outputs": [
        {
          "output_type": "execute_result",
          "data": {
            "text/plain": [
              "(1221,)"
            ]
          },
          "metadata": {},
          "execution_count": 133
        }
      ]
    },
    {
      "cell_type": "markdown",
      "source": [
        "So, we have 1221 texts(like \"Data Integration\" is one text) . we have (19+1 , index logic) 20 max number of word in a text within the entire input which we have Given.\n",
        "And , we have 531 unique word in the enite input sentences , which can be found out by finding len of tokenized words index .\n"
      ],
      "metadata": {
        "id": "VDOFk6532hBi"
      }
    },
    {
      "cell_type": "markdown",
      "source": [
        "Summary  :  \n",
        "\n",
        "*   **Unique words in entire input sentences** : 531  \n",
        "  (*len of tokenized word index*)\n",
        "*   **Max of words in a text** : 20   ( *max len of tokenized text sequence *)\n",
        "\n",
        "*  **Total of input texts (lines )** : 1221   ( *from the shape of X or Y*)\n",
        "\n",
        "\n"
      ],
      "metadata": {
        "id": "5Sz46Cfc6b0M"
      }
    },
    {
      "cell_type": "code",
      "source": [
        "from tensorflow.keras.utils import to_categorical\n",
        "y = to_categorical(y,num_classes=532)"
      ],
      "metadata": {
        "id": "Dpibu9C-8iPs"
      },
      "execution_count": 134,
      "outputs": []
    },
    {
      "cell_type": "code",
      "source": [
        "y.shape"
      ],
      "metadata": {
        "colab": {
          "base_uri": "https://localhost:8080/"
        },
        "id": "pZJFFlOe3XVT",
        "outputId": "64229bc8-f5f8-4c6a-bcd9-b1507478dc0f"
      },
      "execution_count": 135,
      "outputs": [
        {
          "output_type": "execute_result",
          "data": {
            "text/plain": [
              "(1221, 532)"
            ]
          },
          "metadata": {},
          "execution_count": 135
        }
      ]
    },
    {
      "cell_type": "code",
      "source": [
        "model = Sequential()\n",
        "model.add(Embedding(532, 100))\n",
        "model.add(LSTM(150, return_sequences = True))\n",
        "model.add(LSTM(150))\n",
        "model.add(Dense(532, activation='softmax'))"
      ],
      "metadata": {
        "id": "jCAAgBhzAsNN"
      },
      "execution_count": 150,
      "outputs": []
    },
    {
      "cell_type": "code",
      "source": [
        "model.compile(loss='categorical_crossentropy', optimizer='adam',metrics=['accuracy'])"
      ],
      "metadata": {
        "id": "-GGjqh7ue_Yq"
      },
      "execution_count": 151,
      "outputs": []
    },
    {
      "cell_type": "code",
      "source": [
        "model.build(input_shape=(None, 20))"
      ],
      "metadata": {
        "id": "PmTyzlFZPErm"
      },
      "execution_count": 152,
      "outputs": []
    },
    {
      "cell_type": "code",
      "source": [
        "model.summary()"
      ],
      "metadata": {
        "colab": {
          "base_uri": "https://localhost:8080/",
          "height": 257
        },
        "id": "wyYvmqWMBrYH",
        "outputId": "a8cc22f6-9581-4ce7-8df1-a689cc05dac6"
      },
      "execution_count": 153,
      "outputs": [
        {
          "output_type": "display_data",
          "data": {
            "text/plain": [
              "\u001b[1mModel: \"sequential_20\"\u001b[0m\n"
            ],
            "text/html": [
              "<pre style=\"white-space:pre;overflow-x:auto;line-height:normal;font-family:Menlo,'DejaVu Sans Mono',consolas,'Courier New',monospace\"><span style=\"font-weight: bold\">Model: \"sequential_20\"</span>\n",
              "</pre>\n"
            ]
          },
          "metadata": {}
        },
        {
          "output_type": "display_data",
          "data": {
            "text/plain": [
              "┏━━━━━━━━━━━━━━━━━━━━━━━━━━━━━━━━━━━━━━┳━━━━━━━━━━━━━━━━━━━━━━━━━━━━━┳━━━━━━━━━━━━━━━━━┓\n",
              "┃\u001b[1m \u001b[0m\u001b[1mLayer (type)                        \u001b[0m\u001b[1m \u001b[0m┃\u001b[1m \u001b[0m\u001b[1mOutput Shape               \u001b[0m\u001b[1m \u001b[0m┃\u001b[1m \u001b[0m\u001b[1m        Param #\u001b[0m\u001b[1m \u001b[0m┃\n",
              "┡━━━━━━━━━━━━━━━━━━━━━━━━━━━━━━━━━━━━━━╇━━━━━━━━━━━━━━━━━━━━━━━━━━━━━╇━━━━━━━━━━━━━━━━━┩\n",
              "│ embedding_20 (\u001b[38;5;33mEmbedding\u001b[0m)             │ (\u001b[38;5;45mNone\u001b[0m, \u001b[38;5;34m20\u001b[0m, \u001b[38;5;34m100\u001b[0m)             │          \u001b[38;5;34m53,200\u001b[0m │\n",
              "├──────────────────────────────────────┼─────────────────────────────┼─────────────────┤\n",
              "│ lstm_28 (\u001b[38;5;33mLSTM\u001b[0m)                       │ (\u001b[38;5;45mNone\u001b[0m, \u001b[38;5;34m20\u001b[0m, \u001b[38;5;34m150\u001b[0m)             │         \u001b[38;5;34m150,600\u001b[0m │\n",
              "├──────────────────────────────────────┼─────────────────────────────┼─────────────────┤\n",
              "│ lstm_29 (\u001b[38;5;33mLSTM\u001b[0m)                       │ (\u001b[38;5;45mNone\u001b[0m, \u001b[38;5;34m150\u001b[0m)                 │         \u001b[38;5;34m180,600\u001b[0m │\n",
              "├──────────────────────────────────────┼─────────────────────────────┼─────────────────┤\n",
              "│ dense_18 (\u001b[38;5;33mDense\u001b[0m)                     │ (\u001b[38;5;45mNone\u001b[0m, \u001b[38;5;34m532\u001b[0m)                 │          \u001b[38;5;34m80,332\u001b[0m │\n",
              "└──────────────────────────────────────┴─────────────────────────────┴─────────────────┘\n"
            ],
            "text/html": [
              "<pre style=\"white-space:pre;overflow-x:auto;line-height:normal;font-family:Menlo,'DejaVu Sans Mono',consolas,'Courier New',monospace\">┏━━━━━━━━━━━━━━━━━━━━━━━━━━━━━━━━━━━━━━┳━━━━━━━━━━━━━━━━━━━━━━━━━━━━━┳━━━━━━━━━━━━━━━━━┓\n",
              "┃<span style=\"font-weight: bold\"> Layer (type)                         </span>┃<span style=\"font-weight: bold\"> Output Shape                </span>┃<span style=\"font-weight: bold\">         Param # </span>┃\n",
              "┡━━━━━━━━━━━━━━━━━━━━━━━━━━━━━━━━━━━━━━╇━━━━━━━━━━━━━━━━━━━━━━━━━━━━━╇━━━━━━━━━━━━━━━━━┩\n",
              "│ embedding_20 (<span style=\"color: #0087ff; text-decoration-color: #0087ff\">Embedding</span>)             │ (<span style=\"color: #00d7ff; text-decoration-color: #00d7ff\">None</span>, <span style=\"color: #00af00; text-decoration-color: #00af00\">20</span>, <span style=\"color: #00af00; text-decoration-color: #00af00\">100</span>)             │          <span style=\"color: #00af00; text-decoration-color: #00af00\">53,200</span> │\n",
              "├──────────────────────────────────────┼─────────────────────────────┼─────────────────┤\n",
              "│ lstm_28 (<span style=\"color: #0087ff; text-decoration-color: #0087ff\">LSTM</span>)                       │ (<span style=\"color: #00d7ff; text-decoration-color: #00d7ff\">None</span>, <span style=\"color: #00af00; text-decoration-color: #00af00\">20</span>, <span style=\"color: #00af00; text-decoration-color: #00af00\">150</span>)             │         <span style=\"color: #00af00; text-decoration-color: #00af00\">150,600</span> │\n",
              "├──────────────────────────────────────┼─────────────────────────────┼─────────────────┤\n",
              "│ lstm_29 (<span style=\"color: #0087ff; text-decoration-color: #0087ff\">LSTM</span>)                       │ (<span style=\"color: #00d7ff; text-decoration-color: #00d7ff\">None</span>, <span style=\"color: #00af00; text-decoration-color: #00af00\">150</span>)                 │         <span style=\"color: #00af00; text-decoration-color: #00af00\">180,600</span> │\n",
              "├──────────────────────────────────────┼─────────────────────────────┼─────────────────┤\n",
              "│ dense_18 (<span style=\"color: #0087ff; text-decoration-color: #0087ff\">Dense</span>)                     │ (<span style=\"color: #00d7ff; text-decoration-color: #00d7ff\">None</span>, <span style=\"color: #00af00; text-decoration-color: #00af00\">532</span>)                 │          <span style=\"color: #00af00; text-decoration-color: #00af00\">80,332</span> │\n",
              "└──────────────────────────────────────┴─────────────────────────────┴─────────────────┘\n",
              "</pre>\n"
            ]
          },
          "metadata": {}
        },
        {
          "output_type": "display_data",
          "data": {
            "text/plain": [
              "\u001b[1m Total params: \u001b[0m\u001b[38;5;34m464,732\u001b[0m (1.77 MB)\n"
            ],
            "text/html": [
              "<pre style=\"white-space:pre;overflow-x:auto;line-height:normal;font-family:Menlo,'DejaVu Sans Mono',consolas,'Courier New',monospace\"><span style=\"font-weight: bold\"> Total params: </span><span style=\"color: #00af00; text-decoration-color: #00af00\">464,732</span> (1.77 MB)\n",
              "</pre>\n"
            ]
          },
          "metadata": {}
        },
        {
          "output_type": "display_data",
          "data": {
            "text/plain": [
              "\u001b[1m Trainable params: \u001b[0m\u001b[38;5;34m464,732\u001b[0m (1.77 MB)\n"
            ],
            "text/html": [
              "<pre style=\"white-space:pre;overflow-x:auto;line-height:normal;font-family:Menlo,'DejaVu Sans Mono',consolas,'Courier New',monospace\"><span style=\"font-weight: bold\"> Trainable params: </span><span style=\"color: #00af00; text-decoration-color: #00af00\">464,732</span> (1.77 MB)\n",
              "</pre>\n"
            ]
          },
          "metadata": {}
        },
        {
          "output_type": "display_data",
          "data": {
            "text/plain": [
              "\u001b[1m Non-trainable params: \u001b[0m\u001b[38;5;34m0\u001b[0m (0.00 B)\n"
            ],
            "text/html": [
              "<pre style=\"white-space:pre;overflow-x:auto;line-height:normal;font-family:Menlo,'DejaVu Sans Mono',consolas,'Courier New',monospace\"><span style=\"font-weight: bold\"> Non-trainable params: </span><span style=\"color: #00af00; text-decoration-color: #00af00\">0</span> (0.00 B)\n",
              "</pre>\n"
            ]
          },
          "metadata": {}
        }
      ]
    },
    {
      "cell_type": "code",
      "source": [
        "model.fit(x,y,epochs=100)"
      ],
      "metadata": {
        "colab": {
          "base_uri": "https://localhost:8080/"
        },
        "id": "s8O686QzPtwH",
        "outputId": "dd315390-c0c3-4f86-9d06-859b58ccad19"
      },
      "execution_count": 155,
      "outputs": [
        {
          "output_type": "stream",
          "name": "stdout",
          "text": [
            "Epoch 1/100\n",
            "\u001b[1m39/39\u001b[0m \u001b[32m━━━━━━━━━━━━━━━━━━━━\u001b[0m\u001b[37m\u001b[0m \u001b[1m7s\u001b[0m 72ms/step - accuracy: 0.0252 - loss: 6.1267\n",
            "Epoch 2/100\n",
            "\u001b[1m39/39\u001b[0m \u001b[32m━━━━━━━━━━━━━━━━━━━━\u001b[0m\u001b[37m\u001b[0m \u001b[1m3s\u001b[0m 74ms/step - accuracy: 0.0554 - loss: 5.6104\n",
            "Epoch 3/100\n",
            "\u001b[1m39/39\u001b[0m \u001b[32m━━━━━━━━━━━━━━━━━━━━\u001b[0m\u001b[37m\u001b[0m \u001b[1m3s\u001b[0m 71ms/step - accuracy: 0.0474 - loss: 5.5718\n",
            "Epoch 4/100\n",
            "\u001b[1m39/39\u001b[0m \u001b[32m━━━━━━━━━━━━━━━━━━━━\u001b[0m\u001b[37m\u001b[0m \u001b[1m5s\u001b[0m 123ms/step - accuracy: 0.0543 - loss: 5.4916\n",
            "Epoch 5/100\n",
            "\u001b[1m39/39\u001b[0m \u001b[32m━━━━━━━━━━━━━━━━━━━━\u001b[0m\u001b[37m\u001b[0m \u001b[1m3s\u001b[0m 72ms/step - accuracy: 0.0540 - loss: 5.5547\n",
            "Epoch 6/100\n",
            "\u001b[1m39/39\u001b[0m \u001b[32m━━━━━━━━━━━━━━━━━━━━\u001b[0m\u001b[37m\u001b[0m \u001b[1m5s\u001b[0m 71ms/step - accuracy: 0.0463 - loss: 5.5269\n",
            "Epoch 7/100\n",
            "\u001b[1m39/39\u001b[0m \u001b[32m━━━━━━━━━━━━━━━━━━━━\u001b[0m\u001b[37m\u001b[0m \u001b[1m6s\u001b[0m 95ms/step - accuracy: 0.0560 - loss: 5.5061\n",
            "Epoch 8/100\n",
            "\u001b[1m39/39\u001b[0m \u001b[32m━━━━━━━━━━━━━━━━━━━━\u001b[0m\u001b[37m\u001b[0m \u001b[1m4s\u001b[0m 72ms/step - accuracy: 0.0504 - loss: 5.4291\n",
            "Epoch 9/100\n",
            "\u001b[1m39/39\u001b[0m \u001b[32m━━━━━━━━━━━━━━━━━━━━\u001b[0m\u001b[37m\u001b[0m \u001b[1m4s\u001b[0m 101ms/step - accuracy: 0.0511 - loss: 5.3305\n",
            "Epoch 10/100\n",
            "\u001b[1m39/39\u001b[0m \u001b[32m━━━━━━━━━━━━━━━━━━━━\u001b[0m\u001b[37m\u001b[0m \u001b[1m5s\u001b[0m 136ms/step - accuracy: 0.0593 - loss: 5.2158\n",
            "Epoch 11/100\n",
            "\u001b[1m39/39\u001b[0m \u001b[32m━━━━━━━━━━━━━━━━━━━━\u001b[0m\u001b[37m\u001b[0m \u001b[1m8s\u001b[0m 73ms/step - accuracy: 0.0530 - loss: 5.1436\n",
            "Epoch 12/100\n",
            "\u001b[1m39/39\u001b[0m \u001b[32m━━━━━━━━━━━━━━━━━━━━\u001b[0m\u001b[37m\u001b[0m \u001b[1m7s\u001b[0m 108ms/step - accuracy: 0.0603 - loss: 5.0064\n",
            "Epoch 13/100\n",
            "\u001b[1m39/39\u001b[0m \u001b[32m━━━━━━━━━━━━━━━━━━━━\u001b[0m\u001b[37m\u001b[0m \u001b[1m4s\u001b[0m 72ms/step - accuracy: 0.0677 - loss: 4.9751\n",
            "Epoch 14/100\n",
            "\u001b[1m39/39\u001b[0m \u001b[32m━━━━━━━━━━━━━━━━━━━━\u001b[0m\u001b[37m\u001b[0m \u001b[1m3s\u001b[0m 72ms/step - accuracy: 0.0613 - loss: 4.8814\n",
            "Epoch 15/100\n",
            "\u001b[1m39/39\u001b[0m \u001b[32m━━━━━━━━━━━━━━━━━━━━\u001b[0m\u001b[37m\u001b[0m \u001b[1m7s\u001b[0m 119ms/step - accuracy: 0.0637 - loss: 4.7409\n",
            "Epoch 16/100\n",
            "\u001b[1m39/39\u001b[0m \u001b[32m━━━━━━━━━━━━━━━━━━━━\u001b[0m\u001b[37m\u001b[0m \u001b[1m3s\u001b[0m 72ms/step - accuracy: 0.0979 - loss: 4.6006\n",
            "Epoch 17/100\n",
            "\u001b[1m39/39\u001b[0m \u001b[32m━━━━━━━━━━━━━━━━━━━━\u001b[0m\u001b[37m\u001b[0m \u001b[1m3s\u001b[0m 72ms/step - accuracy: 0.0778 - loss: 4.5160\n",
            "Epoch 18/100\n",
            "\u001b[1m39/39\u001b[0m \u001b[32m━━━━━━━━━━━━━━━━━━━━\u001b[0m\u001b[37m\u001b[0m \u001b[1m7s\u001b[0m 120ms/step - accuracy: 0.0943 - loss: 4.3954\n",
            "Epoch 19/100\n",
            "\u001b[1m39/39\u001b[0m \u001b[32m━━━━━━━━━━━━━━━━━━━━\u001b[0m\u001b[37m\u001b[0m \u001b[1m3s\u001b[0m 73ms/step - accuracy: 0.1078 - loss: 4.1909\n",
            "Epoch 20/100\n",
            "\u001b[1m39/39\u001b[0m \u001b[32m━━━━━━━━━━━━━━━━━━━━\u001b[0m\u001b[37m\u001b[0m \u001b[1m5s\u001b[0m 72ms/step - accuracy: 0.1375 - loss: 4.0655\n",
            "Epoch 21/100\n",
            "\u001b[1m39/39\u001b[0m \u001b[32m━━━━━━━━━━━━━━━━━━━━\u001b[0m\u001b[37m\u001b[0m \u001b[1m4s\u001b[0m 101ms/step - accuracy: 0.1365 - loss: 3.9211\n",
            "Epoch 22/100\n",
            "\u001b[1m39/39\u001b[0m \u001b[32m━━━━━━━━━━━━━━━━━━━━\u001b[0m\u001b[37m\u001b[0m \u001b[1m4s\u001b[0m 70ms/step - accuracy: 0.1511 - loss: 3.8674\n",
            "Epoch 23/100\n",
            "\u001b[1m39/39\u001b[0m \u001b[32m━━━━━━━━━━━━━━━━━━━━\u001b[0m\u001b[37m\u001b[0m \u001b[1m5s\u001b[0m 70ms/step - accuracy: 0.1964 - loss: 3.6628\n",
            "Epoch 24/100\n",
            "\u001b[1m39/39\u001b[0m \u001b[32m━━━━━━━━━━━━━━━━━━━━\u001b[0m\u001b[37m\u001b[0m \u001b[1m4s\u001b[0m 98ms/step - accuracy: 0.1906 - loss: 3.6577 \n",
            "Epoch 25/100\n",
            "\u001b[1m39/39\u001b[0m \u001b[32m━━━━━━━━━━━━━━━━━━━━\u001b[0m\u001b[37m\u001b[0m \u001b[1m4s\u001b[0m 70ms/step - accuracy: 0.2367 - loss: 3.4990\n",
            "Epoch 26/100\n",
            "\u001b[1m39/39\u001b[0m \u001b[32m━━━━━━━━━━━━━━━━━━━━\u001b[0m\u001b[37m\u001b[0m \u001b[1m5s\u001b[0m 71ms/step - accuracy: 0.2354 - loss: 3.3951\n",
            "Epoch 27/100\n",
            "\u001b[1m39/39\u001b[0m \u001b[32m━━━━━━━━━━━━━━━━━━━━\u001b[0m\u001b[37m\u001b[0m \u001b[1m4s\u001b[0m 104ms/step - accuracy: 0.2774 - loss: 3.2989\n",
            "Epoch 28/100\n",
            "\u001b[1m39/39\u001b[0m \u001b[32m━━━━━━━━━━━━━━━━━━━━\u001b[0m\u001b[37m\u001b[0m \u001b[1m3s\u001b[0m 87ms/step - accuracy: 0.2875 - loss: 3.1791\n",
            "Epoch 29/100\n",
            "\u001b[1m39/39\u001b[0m \u001b[32m━━━━━━━━━━━━━━━━━━━━\u001b[0m\u001b[37m\u001b[0m \u001b[1m4s\u001b[0m 72ms/step - accuracy: 0.3212 - loss: 3.1098\n",
            "Epoch 30/100\n",
            "\u001b[1m39/39\u001b[0m \u001b[32m━━━━━━━━━━━━━━━━━━━━\u001b[0m\u001b[37m\u001b[0m \u001b[1m7s\u001b[0m 135ms/step - accuracy: 0.3258 - loss: 3.0715\n",
            "Epoch 31/100\n",
            "\u001b[1m39/39\u001b[0m \u001b[32m━━━━━━━━━━━━━━━━━━━━\u001b[0m\u001b[37m\u001b[0m \u001b[1m4s\u001b[0m 106ms/step - accuracy: 0.4057 - loss: 2.8690\n",
            "Epoch 32/100\n",
            "\u001b[1m39/39\u001b[0m \u001b[32m━━━━━━━━━━━━━━━━━━━━\u001b[0m\u001b[37m\u001b[0m \u001b[1m4s\u001b[0m 71ms/step - accuracy: 0.4166 - loss: 2.8297\n",
            "Epoch 33/100\n",
            "\u001b[1m39/39\u001b[0m \u001b[32m━━━━━━━━━━━━━━━━━━━━\u001b[0m\u001b[37m\u001b[0m \u001b[1m5s\u001b[0m 81ms/step - accuracy: 0.4288 - loss: 2.7707\n",
            "Epoch 34/100\n",
            "\u001b[1m39/39\u001b[0m \u001b[32m━━━━━━━━━━━━━━━━━━━━\u001b[0m\u001b[37m\u001b[0m \u001b[1m4s\u001b[0m 113ms/step - accuracy: 0.4496 - loss: 2.6915\n",
            "Epoch 35/100\n",
            "\u001b[1m39/39\u001b[0m \u001b[32m━━━━━━━━━━━━━━━━━━━━\u001b[0m\u001b[37m\u001b[0m \u001b[1m3s\u001b[0m 70ms/step - accuracy: 0.5002 - loss: 2.5571\n",
            "Epoch 36/100\n",
            "\u001b[1m39/39\u001b[0m \u001b[32m━━━━━━━━━━━━━━━━━━━━\u001b[0m\u001b[37m\u001b[0m \u001b[1m5s\u001b[0m 73ms/step - accuracy: 0.5201 - loss: 2.4818\n",
            "Epoch 37/100\n",
            "\u001b[1m39/39\u001b[0m \u001b[32m━━━━━━━━━━━━━━━━━━━━\u001b[0m\u001b[37m\u001b[0m \u001b[1m6s\u001b[0m 90ms/step - accuracy: 0.5326 - loss: 2.4199\n",
            "Epoch 38/100\n",
            "\u001b[1m39/39\u001b[0m \u001b[32m━━━━━━━━━━━━━━━━━━━━\u001b[0m\u001b[37m\u001b[0m \u001b[1m3s\u001b[0m 72ms/step - accuracy: 0.5506 - loss: 2.3394\n",
            "Epoch 39/100\n",
            "\u001b[1m39/39\u001b[0m \u001b[32m━━━━━━━━━━━━━━━━━━━━\u001b[0m\u001b[37m\u001b[0m \u001b[1m3s\u001b[0m 72ms/step - accuracy: 0.5345 - loss: 2.3551\n",
            "Epoch 40/100\n",
            "\u001b[1m39/39\u001b[0m \u001b[32m━━━━━━━━━━━━━━━━━━━━\u001b[0m\u001b[37m\u001b[0m \u001b[1m7s\u001b[0m 117ms/step - accuracy: 0.6053 - loss: 2.1725\n",
            "Epoch 41/100\n",
            "\u001b[1m39/39\u001b[0m \u001b[32m━━━━━━━━━━━━━━━━━━━━\u001b[0m\u001b[37m\u001b[0m \u001b[1m3s\u001b[0m 73ms/step - accuracy: 0.6249 - loss: 2.1097\n",
            "Epoch 42/100\n",
            "\u001b[1m39/39\u001b[0m \u001b[32m━━━━━━━━━━━━━━━━━━━━\u001b[0m\u001b[37m\u001b[0m \u001b[1m3s\u001b[0m 72ms/step - accuracy: 0.6596 - loss: 2.0599\n",
            "Epoch 43/100\n",
            "\u001b[1m39/39\u001b[0m \u001b[32m━━━━━━━━━━━━━━━━━━━━\u001b[0m\u001b[37m\u001b[0m \u001b[1m7s\u001b[0m 114ms/step - accuracy: 0.6385 - loss: 1.9459\n",
            "Epoch 44/100\n",
            "\u001b[1m39/39\u001b[0m \u001b[32m━━━━━━━━━━━━━━━━━━━━\u001b[0m\u001b[37m\u001b[0m \u001b[1m4s\u001b[0m 72ms/step - accuracy: 0.6810 - loss: 1.9173\n",
            "Epoch 45/100\n",
            "\u001b[1m39/39\u001b[0m \u001b[32m━━━━━━━━━━━━━━━━━━━━\u001b[0m\u001b[37m\u001b[0m \u001b[1m5s\u001b[0m 70ms/step - accuracy: 0.6811 - loss: 1.8702\n",
            "Epoch 46/100\n",
            "\u001b[1m39/39\u001b[0m \u001b[32m━━━━━━━━━━━━━━━━━━━━\u001b[0m\u001b[37m\u001b[0m \u001b[1m4s\u001b[0m 99ms/step - accuracy: 0.7159 - loss: 1.7308\n",
            "Epoch 47/100\n",
            "\u001b[1m39/39\u001b[0m \u001b[32m━━━━━━━━━━━━━━━━━━━━\u001b[0m\u001b[37m\u001b[0m \u001b[1m4s\u001b[0m 94ms/step - accuracy: 0.7181 - loss: 1.6702\n",
            "Epoch 48/100\n",
            "\u001b[1m39/39\u001b[0m \u001b[32m━━━━━━━━━━━━━━━━━━━━\u001b[0m\u001b[37m\u001b[0m \u001b[1m3s\u001b[0m 71ms/step - accuracy: 0.7451 - loss: 1.6470\n",
            "Epoch 49/100\n",
            "\u001b[1m39/39\u001b[0m \u001b[32m━━━━━━━━━━━━━━━━━━━━\u001b[0m\u001b[37m\u001b[0m \u001b[1m3s\u001b[0m 72ms/step - accuracy: 0.7359 - loss: 1.5668\n",
            "Epoch 50/100\n",
            "\u001b[1m39/39\u001b[0m \u001b[32m━━━━━━━━━━━━━━━━━━━━\u001b[0m\u001b[37m\u001b[0m \u001b[1m3s\u001b[0m 79ms/step - accuracy: 0.7774 - loss: 1.4888\n",
            "Epoch 51/100\n",
            "\u001b[1m39/39\u001b[0m \u001b[32m━━━━━━━━━━━━━━━━━━━━\u001b[0m\u001b[37m\u001b[0m \u001b[1m5s\u001b[0m 71ms/step - accuracy: 0.8069 - loss: 1.4216\n",
            "Epoch 52/100\n",
            "\u001b[1m39/39\u001b[0m \u001b[32m━━━━━━━━━━━━━━━━━━━━\u001b[0m\u001b[37m\u001b[0m \u001b[1m5s\u001b[0m 71ms/step - accuracy: 0.7818 - loss: 1.4040\n",
            "Epoch 53/100\n",
            "\u001b[1m39/39\u001b[0m \u001b[32m━━━━━━━━━━━━━━━━━━━━\u001b[0m\u001b[37m\u001b[0m \u001b[1m8s\u001b[0m 139ms/step - accuracy: 0.8078 - loss: 1.3485\n",
            "Epoch 54/100\n",
            "\u001b[1m39/39\u001b[0m \u001b[32m━━━━━━━━━━━━━━━━━━━━\u001b[0m\u001b[37m\u001b[0m \u001b[1m8s\u001b[0m 71ms/step - accuracy: 0.8153 - loss: 1.3017\n",
            "Epoch 55/100\n",
            "\u001b[1m39/39\u001b[0m \u001b[32m━━━━━━━━━━━━━━━━━━━━\u001b[0m\u001b[37m\u001b[0m \u001b[1m4s\u001b[0m 93ms/step - accuracy: 0.8170 - loss: 1.2714\n",
            "Epoch 56/100\n",
            "\u001b[1m39/39\u001b[0m \u001b[32m━━━━━━━━━━━━━━━━━━━━\u001b[0m\u001b[37m\u001b[0m \u001b[1m4s\u001b[0m 100ms/step - accuracy: 0.8339 - loss: 1.1653\n",
            "Epoch 57/100\n",
            "\u001b[1m39/39\u001b[0m \u001b[32m━━━━━━━━━━━━━━━━━━━━\u001b[0m\u001b[37m\u001b[0m \u001b[1m4s\u001b[0m 72ms/step - accuracy: 0.8194 - loss: 1.1676\n",
            "Epoch 58/100\n",
            "\u001b[1m39/39\u001b[0m \u001b[32m━━━━━━━━━━━━━━━━━━━━\u001b[0m\u001b[37m\u001b[0m \u001b[1m3s\u001b[0m 72ms/step - accuracy: 0.8515 - loss: 1.1069\n",
            "Epoch 59/100\n",
            "\u001b[1m39/39\u001b[0m \u001b[32m━━━━━━━━━━━━━━━━━━━━\u001b[0m\u001b[37m\u001b[0m \u001b[1m4s\u001b[0m 103ms/step - accuracy: 0.8554 - loss: 1.0261\n",
            "Epoch 60/100\n",
            "\u001b[1m39/39\u001b[0m \u001b[32m━━━━━━━━━━━━━━━━━━━━\u001b[0m\u001b[37m\u001b[0m \u001b[1m4s\u001b[0m 72ms/step - accuracy: 0.8599 - loss: 1.0613\n",
            "Epoch 61/100\n",
            "\u001b[1m39/39\u001b[0m \u001b[32m━━━━━━━━━━━━━━━━━━━━\u001b[0m\u001b[37m\u001b[0m \u001b[1m5s\u001b[0m 72ms/step - accuracy: 0.8570 - loss: 1.0000\n",
            "Epoch 62/100\n",
            "\u001b[1m39/39\u001b[0m \u001b[32m━━━━━━━━━━━━━━━━━━━━\u001b[0m\u001b[37m\u001b[0m \u001b[1m6s\u001b[0m 102ms/step - accuracy: 0.8906 - loss: 0.9207\n",
            "Epoch 63/100\n",
            "\u001b[1m39/39\u001b[0m \u001b[32m━━━━━━━━━━━━━━━━━━━━\u001b[0m\u001b[37m\u001b[0m \u001b[1m4s\u001b[0m 72ms/step - accuracy: 0.9060 - loss: 0.8690\n",
            "Epoch 64/100\n",
            "\u001b[1m39/39\u001b[0m \u001b[32m━━━━━━━━━━━━━━━━━━━━\u001b[0m\u001b[37m\u001b[0m \u001b[1m3s\u001b[0m 71ms/step - accuracy: 0.8945 - loss: 0.8628\n",
            "Epoch 65/100\n",
            "\u001b[1m39/39\u001b[0m \u001b[32m━━━━━━━━━━━━━━━━━━━━\u001b[0m\u001b[37m\u001b[0m \u001b[1m6s\u001b[0m 103ms/step - accuracy: 0.9218 - loss: 0.8099\n",
            "Epoch 66/100\n",
            "\u001b[1m39/39\u001b[0m \u001b[32m━━━━━━━━━━━━━━━━━━━━\u001b[0m\u001b[37m\u001b[0m \u001b[1m3s\u001b[0m 72ms/step - accuracy: 0.9012 - loss: 0.8203\n",
            "Epoch 67/100\n",
            "\u001b[1m39/39\u001b[0m \u001b[32m━━━━━━━━━━━━━━━━━━━━\u001b[0m\u001b[37m\u001b[0m \u001b[1m5s\u001b[0m 75ms/step - accuracy: 0.9273 - loss: 0.7661\n",
            "Epoch 68/100\n",
            "\u001b[1m39/39\u001b[0m \u001b[32m━━━━━━━━━━━━━━━━━━━━\u001b[0m\u001b[37m\u001b[0m \u001b[1m5s\u001b[0m 73ms/step - accuracy: 0.9005 - loss: 0.7818\n",
            "Epoch 69/100\n",
            "\u001b[1m39/39\u001b[0m \u001b[32m━━━━━━━━━━━━━━━━━━━━\u001b[0m\u001b[37m\u001b[0m \u001b[1m5s\u001b[0m 72ms/step - accuracy: 0.9276 - loss: 0.6961\n",
            "Epoch 70/100\n",
            "\u001b[1m39/39\u001b[0m \u001b[32m━━━━━━━━━━━━━━━━━━━━\u001b[0m\u001b[37m\u001b[0m \u001b[1m7s\u001b[0m 117ms/step - accuracy: 0.9166 - loss: 0.6855\n",
            "Epoch 71/100\n",
            "\u001b[1m39/39\u001b[0m \u001b[32m━━━━━━━━━━━━━━━━━━━━\u001b[0m\u001b[37m\u001b[0m \u001b[1m3s\u001b[0m 75ms/step - accuracy: 0.9341 - loss: 0.6412\n",
            "Epoch 72/100\n",
            "\u001b[1m39/39\u001b[0m \u001b[32m━━━━━━━━━━━━━━━━━━━━\u001b[0m\u001b[37m\u001b[0m \u001b[1m5s\u001b[0m 74ms/step - accuracy: 0.9232 - loss: 0.6479\n",
            "Epoch 73/100\n",
            "\u001b[1m39/39\u001b[0m \u001b[32m━━━━━━━━━━━━━━━━━━━━\u001b[0m\u001b[37m\u001b[0m \u001b[1m7s\u001b[0m 125ms/step - accuracy: 0.9277 - loss: 0.6332\n",
            "Epoch 74/100\n",
            "\u001b[1m39/39\u001b[0m \u001b[32m━━━━━━━━━━━━━━━━━━━━\u001b[0m\u001b[37m\u001b[0m \u001b[1m3s\u001b[0m 73ms/step - accuracy: 0.9336 - loss: 0.5875\n",
            "Epoch 75/100\n",
            "\u001b[1m39/39\u001b[0m \u001b[32m━━━━━━━━━━━━━━━━━━━━\u001b[0m\u001b[37m\u001b[0m \u001b[1m7s\u001b[0m 112ms/step - accuracy: 0.9448 - loss: 0.5532\n",
            "Epoch 76/100\n",
            "\u001b[1m39/39\u001b[0m \u001b[32m━━━━━━━━━━━━━━━━━━━━\u001b[0m\u001b[37m\u001b[0m \u001b[1m3s\u001b[0m 71ms/step - accuracy: 0.9421 - loss: 0.5660\n",
            "Epoch 77/100\n",
            "\u001b[1m39/39\u001b[0m \u001b[32m━━━━━━━━━━━━━━━━━━━━\u001b[0m\u001b[37m\u001b[0m \u001b[1m3s\u001b[0m 73ms/step - accuracy: 0.9549 - loss: 0.4991\n",
            "Epoch 78/100\n",
            "\u001b[1m39/39\u001b[0m \u001b[32m━━━━━━━━━━━━━━━━━━━━\u001b[0m\u001b[37m\u001b[0m \u001b[1m7s\u001b[0m 122ms/step - accuracy: 0.9522 - loss: 0.5050\n",
            "Epoch 79/100\n",
            "\u001b[1m39/39\u001b[0m \u001b[32m━━━━━━━━━━━━━━━━━━━━\u001b[0m\u001b[37m\u001b[0m \u001b[1m3s\u001b[0m 72ms/step - accuracy: 0.9586 - loss: 0.4795\n",
            "Epoch 80/100\n",
            "\u001b[1m39/39\u001b[0m \u001b[32m━━━━━━━━━━━━━━━━━━━━\u001b[0m\u001b[37m\u001b[0m \u001b[1m5s\u001b[0m 70ms/step - accuracy: 0.9524 - loss: 0.4668\n",
            "Epoch 81/100\n",
            "\u001b[1m39/39\u001b[0m \u001b[32m━━━━━━━━━━━━━━━━━━━━\u001b[0m\u001b[37m\u001b[0m \u001b[1m4s\u001b[0m 115ms/step - accuracy: 0.9577 - loss: 0.4379\n",
            "Epoch 82/100\n",
            "\u001b[1m39/39\u001b[0m \u001b[32m━━━━━━━━━━━━━━━━━━━━\u001b[0m\u001b[37m\u001b[0m \u001b[1m3s\u001b[0m 71ms/step - accuracy: 0.9664 - loss: 0.4192\n",
            "Epoch 83/100\n",
            "\u001b[1m39/39\u001b[0m \u001b[32m━━━━━━━━━━━━━━━━━━━━\u001b[0m\u001b[37m\u001b[0m \u001b[1m5s\u001b[0m 70ms/step - accuracy: 0.9571 - loss: 0.4180\n",
            "Epoch 84/100\n",
            "\u001b[1m39/39\u001b[0m \u001b[32m━━━━━━━━━━━━━━━━━━━━\u001b[0m\u001b[37m\u001b[0m \u001b[1m6s\u001b[0m 105ms/step - accuracy: 0.9645 - loss: 0.4223\n",
            "Epoch 85/100\n",
            "\u001b[1m39/39\u001b[0m \u001b[32m━━━━━━━━━━━━━━━━━━━━\u001b[0m\u001b[37m\u001b[0m \u001b[1m4s\u001b[0m 70ms/step - accuracy: 0.9588 - loss: 0.3951\n",
            "Epoch 86/100\n",
            "\u001b[1m39/39\u001b[0m \u001b[32m━━━━━━━━━━━━━━━━━━━━\u001b[0m\u001b[37m\u001b[0m \u001b[1m6s\u001b[0m 85ms/step - accuracy: 0.9664 - loss: 0.3896\n",
            "Epoch 87/100\n",
            "\u001b[1m39/39\u001b[0m \u001b[32m━━━━━━━━━━━━━━━━━━━━\u001b[0m\u001b[37m\u001b[0m \u001b[1m5s\u001b[0m 72ms/step - accuracy: 0.9662 - loss: 0.3706\n",
            "Epoch 88/100\n",
            "\u001b[1m39/39\u001b[0m \u001b[32m━━━━━━━━━━━━━━━━━━━━\u001b[0m\u001b[37m\u001b[0m \u001b[1m3s\u001b[0m 72ms/step - accuracy: 0.9730 - loss: 0.3575\n",
            "Epoch 89/100\n",
            "\u001b[1m39/39\u001b[0m \u001b[32m━━━━━━━━━━━━━━━━━━━━\u001b[0m\u001b[37m\u001b[0m \u001b[1m6s\u001b[0m 98ms/step - accuracy: 0.9771 - loss: 0.3375\n",
            "Epoch 90/100\n",
            "\u001b[1m39/39\u001b[0m \u001b[32m━━━━━━━━━━━━━━━━━━━━\u001b[0m\u001b[37m\u001b[0m \u001b[1m4s\u001b[0m 72ms/step - accuracy: 0.9805 - loss: 0.3136\n",
            "Epoch 91/100\n",
            "\u001b[1m39/39\u001b[0m \u001b[32m━━━━━━━━━━━━━━━━━━━━\u001b[0m\u001b[37m\u001b[0m \u001b[1m5s\u001b[0m 72ms/step - accuracy: 0.9666 - loss: 0.3292\n",
            "Epoch 92/100\n",
            "\u001b[1m39/39\u001b[0m \u001b[32m━━━━━━━━━━━━━━━━━━━━\u001b[0m\u001b[37m\u001b[0m \u001b[1m4s\u001b[0m 104ms/step - accuracy: 0.9696 - loss: 0.3111\n",
            "Epoch 93/100\n",
            "\u001b[1m39/39\u001b[0m \u001b[32m━━━━━━━━━━━━━━━━━━━━\u001b[0m\u001b[37m\u001b[0m \u001b[1m4s\u001b[0m 89ms/step - accuracy: 0.9774 - loss: 0.2857\n",
            "Epoch 94/100\n",
            "\u001b[1m39/39\u001b[0m \u001b[32m━━━━━━━━━━━━━━━━━━━━\u001b[0m\u001b[37m\u001b[0m \u001b[1m6s\u001b[0m 123ms/step - accuracy: 0.9817 - loss: 0.2701\n",
            "Epoch 95/100\n",
            "\u001b[1m39/39\u001b[0m \u001b[32m━━━━━━━━━━━━━━━━━━━━\u001b[0m\u001b[37m\u001b[0m \u001b[1m5s\u001b[0m 109ms/step - accuracy: 0.9791 - loss: 0.2707\n",
            "Epoch 96/100\n",
            "\u001b[1m39/39\u001b[0m \u001b[32m━━━━━━━━━━━━━━━━━━━━\u001b[0m\u001b[37m\u001b[0m \u001b[1m3s\u001b[0m 77ms/step - accuracy: 0.9762 - loss: 0.2707\n",
            "Epoch 97/100\n",
            "\u001b[1m39/39\u001b[0m \u001b[32m━━━━━━━━━━━━━━━━━━━━\u001b[0m\u001b[37m\u001b[0m \u001b[1m5s\u001b[0m 72ms/step - accuracy: 0.9704 - loss: 0.2661\n",
            "Epoch 98/100\n",
            "\u001b[1m39/39\u001b[0m \u001b[32m━━━━━━━━━━━━━━━━━━━━\u001b[0m\u001b[37m\u001b[0m \u001b[1m7s\u001b[0m 125ms/step - accuracy: 0.9719 - loss: 0.2655\n",
            "Epoch 99/100\n",
            "\u001b[1m39/39\u001b[0m \u001b[32m━━━━━━━━━━━━━━━━━━━━\u001b[0m\u001b[37m\u001b[0m \u001b[1m3s\u001b[0m 71ms/step - accuracy: 0.9770 - loss: 0.2385\n",
            "Epoch 100/100\n",
            "\u001b[1m39/39\u001b[0m \u001b[32m━━━━━━━━━━━━━━━━━━━━\u001b[0m\u001b[37m\u001b[0m \u001b[1m5s\u001b[0m 74ms/step - accuracy: 0.9805 - loss: 0.2239\n"
          ]
        },
        {
          "output_type": "execute_result",
          "data": {
            "text/plain": [
              "<keras.src.callbacks.history.History at 0x7a73efb1a0b0>"
            ]
          },
          "metadata": {},
          "execution_count": 155
        }
      ]
    },
    {
      "cell_type": "code",
      "source": [
        "import time\n",
        "import numpy as np\n",
        "text = \"order to handle\"\n",
        "\n",
        "for i in range(10):\n",
        "  # tokenize\n",
        "  token_text = tokenizer.texts_to_sequences([text])[0]\n",
        "  # padding\n",
        "  padded_token_text = pad_sequences([token_text], maxlen=20, padding='pre')\n",
        "  # predict\n",
        "  pos = np.argmax(model.predict(padded_token_text))\n",
        "\n",
        "  for word,index in tokenizer.word_index.items():\n",
        "    if index == pos:\n",
        "      text = text + \" \" + word\n",
        "      print(text)\n",
        "      time.sleep(2)"
      ],
      "metadata": {
        "colab": {
          "base_uri": "https://localhost:8080/"
        },
        "id": "ifGtpOFORsLw",
        "outputId": "95a37d0e-13ed-4452-8d33-8fb7e9fb19f9"
      },
      "execution_count": 158,
      "outputs": [
        {
          "output_type": "stream",
          "name": "stdout",
          "text": [
            "\u001b[1m1/1\u001b[0m \u001b[32m━━━━━━━━━━━━━━━━━━━━\u001b[0m\u001b[37m\u001b[0m \u001b[1m0s\u001b[0m 26ms/step\n",
            "order to handle queries\n",
            "\u001b[1m1/1\u001b[0m \u001b[32m━━━━━━━━━━━━━━━━━━━━\u001b[0m\u001b[37m\u001b[0m \u001b[1m0s\u001b[0m 27ms/step\n",
            "order to handle queries for\n",
            "\u001b[1m1/1\u001b[0m \u001b[32m━━━━━━━━━━━━━━━━━━━━\u001b[0m\u001b[37m\u001b[0m \u001b[1m0s\u001b[0m 58ms/step\n",
            "order to handle queries for arbitrary\n",
            "\u001b[1m1/1\u001b[0m \u001b[32m━━━━━━━━━━━━━━━━━━━━\u001b[0m\u001b[37m\u001b[0m \u001b[1m0s\u001b[0m 29ms/step\n",
            "order to handle queries for arbitrary keywords\n",
            "\u001b[1m1/1\u001b[0m \u001b[32m━━━━━━━━━━━━━━━━━━━━\u001b[0m\u001b[37m\u001b[0m \u001b[1m0s\u001b[0m 26ms/step\n",
            "order to handle queries for arbitrary keywords although\n",
            "\u001b[1m1/1\u001b[0m \u001b[32m━━━━━━━━━━━━━━━━━━━━\u001b[0m\u001b[37m\u001b[0m \u001b[1m0s\u001b[0m 27ms/step\n",
            "order to handle queries for arbitrary keywords although some\n",
            "\u001b[1m1/1\u001b[0m \u001b[32m━━━━━━━━━━━━━━━━━━━━\u001b[0m\u001b[37m\u001b[0m \u001b[1m0s\u001b[0m 26ms/step\n",
            "order to handle queries for arbitrary keywords although some databases\n",
            "\u001b[1m1/1\u001b[0m \u001b[32m━━━━━━━━━━━━━━━━━━━━\u001b[0m\u001b[37m\u001b[0m \u001b[1m0s\u001b[0m 26ms/step\n",
            "order to handle queries for arbitrary keywords although some databases for\n",
            "\u001b[1m1/1\u001b[0m \u001b[32m━━━━━━━━━━━━━━━━━━━━\u001b[0m\u001b[37m\u001b[0m \u001b[1m0s\u001b[0m 42ms/step\n",
            "order to handle queries for arbitrary keywords although some databases for several\n",
            "\u001b[1m1/1\u001b[0m \u001b[32m━━━━━━━━━━━━━━━━━━━━\u001b[0m\u001b[37m\u001b[0m \u001b[1m0s\u001b[0m 27ms/step\n",
            "order to handle queries for arbitrary keywords although some databases for several storage\n"
          ]
        }
      ]
    }
  ]
}